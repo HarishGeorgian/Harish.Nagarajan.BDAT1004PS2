{
 "cells": [
  {
   "cell_type": "markdown",
   "id": "6f6c5297",
   "metadata": {},
   "source": [
    "Problem Set - Question 1"
   ]
  },
  {
   "cell_type": "code",
   "execution_count": 1,
   "id": "aff7fd3a",
   "metadata": {},
   "outputs": [
    {
     "data": {
      "text/plain": [
       "6"
      ]
     },
     "execution_count": 1,
     "metadata": {},
     "output_type": "execute_result"
    }
   ],
   "source": [
    "#Consider the following Python module:\n",
    "#a = 0\n",
    "#def b():\n",
    "# global a\n",
    "# a = c(a)\n",
    "#def c(a):\n",
    "# return a + 2\n",
    "#After importing the module into the interpreter, you execute:\n",
    "#>>> b()\n",
    "#>>> b()\n",
    "#>>> b()\n",
    "#>>> a\n",
    "#?\n",
    "#What value is displayed when the last expression (a) is evaluated? Explain your answer by indicating what happens in every executed statement.\n",
    "\n",
    "\n",
    "a = 0\n",
    "def b():\n",
    " global a\n",
    " a = c(a)\n",
    "def c(a):\n",
    " return a + 2\n",
    "\n",
    "b()\n",
    "b()\n",
    "b()\n",
    "a\n",
    "#In the first statement a is initialized the value 0.In function b, a is declared as a global variable which means a is declared outside the function b\n",
    "#First time function b is called 'a' is declared as a global varable and then in function c its value is incremented by 2\n",
    "#So when function b is called first time value of a is initially 0 and becomes 2\n",
    "#function b is called 2 more times and its value is increased by 2 every time i.e. 4 in total. Therefore value of a becomes 6 "
   ]
  },
  {
   "cell_type": "markdown",
   "id": "5f303fde",
   "metadata": {},
   "source": [
    "Problem Set - Question 2"
   ]
  },
  {
   "cell_type": "code",
   "execution_count": 5,
   "id": "d172b078",
   "metadata": {},
   "outputs": [
    {
     "data": {
      "text/plain": [
       "123"
      ]
     },
     "execution_count": 5,
     "metadata": {},
     "output_type": "execute_result"
    }
   ],
   "source": [
    "#Question 2: Function fileLength(), given to you, takes the name of a file as input and returns the length of the file:\n",
    "#Modify function fileLength() so that a friendly message is printed instead:\n",
    "\n",
    "\n",
    "import os\n",
    "\n",
    "def fileLength(filename):\n",
    "    if os.path.exists(filename):\n",
    "        with open(filename) as infile:\n",
    "            content = infile.read()\n",
    "        return len(content)\n",
    "    else:\n",
    "        print(f\"File {filename} not found.\")\n",
    "\n",
    "fileLength('Filelength.txt')"
   ]
  },
  {
   "cell_type": "code",
   "execution_count": 6,
   "id": "b6707dd4",
   "metadata": {},
   "outputs": [
    {
     "name": "stdout",
     "output_type": "stream",
     "text": [
      "File file.txt not found.\n"
     ]
    }
   ],
   "source": [
    "#Question 2: Part 2 - Friendly message\n",
    "fileLength('file.txt')"
   ]
  },
  {
   "cell_type": "markdown",
   "id": "53f2e192",
   "metadata": {},
   "source": [
    "Problem Set - Question 3"
   ]
  },
  {
   "cell_type": "code",
   "execution_count": 15,
   "id": "872a5ac3",
   "metadata": {},
   "outputs": [
    {
     "name": "stdout",
     "output_type": "stream",
     "text": [
      "['doll', 'firetruck', 'kitten']\n"
     ]
    }
   ],
   "source": [
    "#Write a class named Marsupial that can be used as shown below:\n",
    "#>>> m = Marsupial()\n",
    "#>>> m.put_in_pouch('doll')\n",
    "#>>> m.put_in_pouch('firetruck')\n",
    "#>>> m.put_in_pouch('kitten')\n",
    "#>>> m.pouch_contents()\n",
    "#['doll', 'firetruck', 'kitten']\n",
    "\n",
    "class Marsupial:\n",
    "    def __init__(self):\n",
    "        self.items = []\n",
    "    \n",
    "    def put_in_pouch(self, item):\n",
    "        self.items.append(item)\n",
    "    \n",
    "    def pouch_contents(self):\n",
    "        print (self.items)\n",
    "    \n",
    "m = Marsupial()\n",
    "m.put_in_pouch('doll')\n",
    "m.put_in_pouch('firetruck')\n",
    "m.put_in_pouch('kitten')\n",
    "m.pouch_contents()"
   ]
  },
  {
   "cell_type": "code",
   "execution_count": 18,
   "id": "5889d218",
   "metadata": {},
   "outputs": [
    {
     "name": "stdout",
     "output_type": "stream",
     "text": [
      "I am a Kangaroo located at coordinates (0,0)\n",
      "['doll', 'firetruck', 'kitten']\n",
      "I am a Kangaroo located at coordinates (3,0)\n"
     ]
    }
   ],
   "source": [
    "class Marsupial:\n",
    "    def __init__(self):\n",
    "        self.items = []\n",
    "    \n",
    "    def put_in_pouch(self, item):\n",
    "        self.items.append(item)\n",
    "    \n",
    "    def pouch_contents(self):\n",
    "        print(self.items)\n",
    "    \n",
    "class Kangaroo(Marsupial):\n",
    "    def __init__(self, x, y):\n",
    "        super().__init__()\n",
    "        self.x = x\n",
    "        self.y = y\n",
    "    \n",
    "    def jump(self, dx, dy):\n",
    "        self.x += dx\n",
    "        self.y += dy\n",
    "    \n",
    "    def __str__(self):\n",
    "        return f\"I am a Kangaroo located at coordinates ({self.x},{self.y})\"\n",
    "\n",
    "k = Kangaroo(0,0)\n",
    "print(k)\n",
    "k.put_in_pouch('doll')\n",
    "k.put_in_pouch('firetruck')\n",
    "k.put_in_pouch('kitten')\n",
    "k.pouch_contents()\n",
    "k.jump(1,0)\n",
    "k.jump(1,0)\n",
    "k.jump(1,0)\n",
    "print(k)"
   ]
  },
  {
   "cell_type": "markdown",
   "id": "b20912dd",
   "metadata": {},
   "source": [
    "Question 4:"
   ]
  },
  {
   "cell_type": "code",
   "execution_count": 20,
   "id": "4c5a3cfa",
   "metadata": {},
   "outputs": [
    {
     "name": "stdout",
     "output_type": "stream",
     "text": [
      "Collatz of 1 is\n",
      "1\n",
      "Collatz of 10 is\n",
      "10\n",
      "5\n",
      "16\n",
      "8\n",
      "4\n",
      "2\n",
      "1\n"
     ]
    }
   ],
   "source": [
    "# Write function collatz() that takes a positive integer x as input and prints the Collatz sequence starting at x. A Collatz sequence is obtained by repeatedly applying this rule to the previous number x in the sequence:\n",
    "#x = {\n",
    "#𝑥/2 𝑖𝑓 𝑥 𝑖𝑠 𝑒𝑣𝑒𝑛\n",
    "#3𝑥 + 1 𝑖𝑓 𝑥 𝑖𝑠 𝑜𝑑𝑑\n",
    "#Your function should stop when the sequence gets to number 1. Your implementation must be recursive, without any loops.\n",
    "\n",
    "def collatz(x):\n",
    "    print(x)\n",
    "    if x == 1:\n",
    "        return\n",
    "    elif x % 2 == 0:\n",
    "        collatz(x // 2)\n",
    "    else:\n",
    "        collatz(3 * x + 1)\n",
    "print (\"Collatz of 1 is\")\n",
    "collatz (1)\n",
    "print (\"Collatz of 10 is\")\n",
    "collatz (10)"
   ]
  },
  {
   "cell_type": "markdown",
   "id": "c6d3ea29",
   "metadata": {},
   "source": [
    "Question 5:"
   ]
  },
  {
   "cell_type": "code",
   "execution_count": 30,
   "id": "c6b8f965",
   "metadata": {},
   "outputs": [
    {
     "name": "stdout",
     "output_type": "stream",
     "text": [
      "Binary of 0 is\n",
      "0\n",
      "Binary of 1 is\n",
      "1\n",
      "Binary of 3 is\n",
      "11\n",
      "Binary of 9 is\n",
      "1001"
     ]
    }
   ],
   "source": [
    "#Write a recursive method binary() that takes a non-negative integer n and prints the binary representation of integer n.\n",
    "\n",
    "def binary(n):\n",
    "    if n < 2:\n",
    "        print(n, end='')\n",
    "    else:\n",
    "        binary(n // 2)\n",
    "        print(n % 2, end='')\n",
    "\n",
    "print (\"Binary of 0 is\")\n",
    "binary(0)\n",
    "\n",
    "print (\"\\nBinary of 1 is\")\n",
    "binary(1)\n",
    "\n",
    "print (\"\\nBinary of 3 is\")\n",
    "binary(3)\n",
    "\n",
    "print (\"\\nBinary of 9 is\")\n",
    "binary(9)"
   ]
  },
  {
   "cell_type": "markdown",
   "id": "f5a59c41",
   "metadata": {},
   "source": [
    "Question 6:"
   ]
  },
  {
   "cell_type": "code",
   "execution_count": 36,
   "id": "52f312bb",
   "metadata": {},
   "outputs": [
    {
     "name": "stdout",
     "output_type": "stream",
     "text": [
      "W3C Mission\n",
      " Principles\n"
     ]
    }
   ],
   "source": [
    "#Implement a class named HeadingParser that can be used to parse an HTML document, and retrieve and print all the headings in the document. You should implement your class as a subclass of HTMLParser, defined in Standard Library module html.parser. When fed a string containing HTML code, your class should print the headings, one per line and in the order in which they appear in the document. Each heading should be indented as follows: an h1 heading should have\n",
    "#indentation 0, and h2 heading should have indentation 1, etc. Test your implementation using w3c.html.\n",
    "\n",
    "from html.parser import HTMLParser\n",
    "\n",
    "class HeadingParser(HTMLParser):\n",
    "    h1_tag=\"\"\n",
    "    h2_tag=\"\"\n",
    "    \n",
    "    def __init__(self):\n",
    "        HTMLParser.__init__(self)\n",
    "        \n",
    "    def handle_starttag(self,tag,attr):\n",
    "        if tag=='h1':\n",
    "            self.h1_tag=True\n",
    "        elif tag=='h2':\n",
    "            self.h2_tag=True\n",
    "            \n",
    "    def handle_data(self,data):\n",
    "        if self.h1_tag:\n",
    "            print(data)\n",
    "        elif self.h2_tag:\n",
    "            print(\" \"+data)\n",
    "            \n",
    "    def handle_endtag(self,tag):\n",
    "        if tag=='h1':\n",
    "            self.h1_tag=False\n",
    "        elif tag=='h2':\n",
    "            self.h2_tag=False\n",
    "            \n",
    "infile = open('w3c.html')\n",
    "content =infile.read()\n",
    "hp = HeadingParser()\n",
    "hp.feed(content)\n"
   ]
  },
  {
   "cell_type": "markdown",
   "id": "efb13b12",
   "metadata": {},
   "source": [
    "Question 7:"
   ]
  },
  {
   "cell_type": "code",
   "execution_count": 46,
   "id": "756966be",
   "metadata": {},
   "outputs": [
    {
     "name": "stdout",
     "output_type": "stream",
     "text": [
      "http://reed.cs.depaul.edu/lperkovic/test1.html\n",
      " http://reed.cs.depaul.edu/lperkovic/test2.html\n",
      "  http://reed.cs.depaul.edu/lperkovic/test4.html\n",
      " http://reed.cs.depaul.edu/lperkovic/test3.html\n",
      "  http://reed.cs.depaul.edu/lperkovic/test4.html\n"
     ]
    }
   ],
   "source": [
    "#Implement recursive function webdir() that takes as input: a URL (as a string) and non-negative integers depth and indent. Your function should visit every web page reachable from the starting URL web page in depth clicks or less, and print each web page's URL. As shown below, indentation, specified by indent, should be used to indicate the depth of a URL\n",
    "\n",
    "import urllib.request\n",
    "from html.parser import HTMLParser\n",
    "\n",
    "class MyParser(HTMLParser):\n",
    "    def handle_starttag(self, tag, attrs):\n",
    "        if tag == 'a':\n",
    "            for attr in attrs:\n",
    "                if attr[0] == 'href':\n",
    "                    if attr[1][-4:] == 'html':\n",
    "                        if attr[1][:4] == 'http':\n",
    "                            webdir(attr[1], 1, 1)\n",
    "                        elif attr[1][:5] == 'test3':\n",
    "                            url = 'http://reed.cs.depaul.edu/lperkovic/' + attr[1]\n",
    "                            webdir(url, 0, 1)\n",
    "                        else:\n",
    "                            url = 'http://reed.cs.depaul.edu/lperkovic/' + attr[1]\n",
    "                            webdir(url, 0, 2)\n",
    "\n",
    "def webdir(url, depth, indent):\n",
    "    if indent == 0:\n",
    "        print(url)\n",
    "    elif indent == 1:\n",
    "        print(\" \" + url)\n",
    "    elif indent == 2:\n",
    "        print(\"  \" + url)\n",
    "    request = urllib.request.urlopen(url)\n",
    "    html = request.read().decode(\"utf8\")\n",
    "    parser = MyParser()\n",
    "    parser.feed(html)\n",
    "\n",
    "webdir('http://reed.cs.depaul.edu/lperkovic/test1.html',2,0)"
   ]
  },
  {
   "cell_type": "markdown",
   "id": "ab77dab0",
   "metadata": {},
   "source": [
    "Question 8:\n",
    "Write SQL queries on the below database table that return:\n",
    "a) All the temperature data\n",
    "Answer - select * from temperature;\n",
    "\n",
    "b) All the cities, but without repetition.\n",
    "Answer - select distinct City from temperature;\n",
    "         select city from temperature group by city;\n",
    "         \n",
    "\n",
    "c) All the records for India.\n",
    "Answer - select * from temperature where Country='India';\n",
    "\n",
    "d) All the Fall records.\n",
    "Answer - select * from temperature where season ='Fall';\n",
    "\n",
    "e) The city, country, and season for which the average rainfall is between 200 and 400 millimeters.\n",
    "Answer - select city, country, season from temperature where Rainfall between 200 and 400;\n",
    "\n",
    "f) The city and country for which the average Fall temperature is above 20 degrees, in increasing temperature order.\n",
    "Answer - select city,country from temperature where temperature>20 order by temperature asc;\n",
    "\n",
    "g) The total annual rainfall for Cairo.\n",
    "Answer - select sum(Rainfall) as \"annual rainfall\" from temperature where city='Cairo';\n",
    "\n",
    "h) The total rainfall for each season.\n",
    "Answer - select season,sum(Rainfall) as \"annual rainfall\" from temperature group by season;\n"
   ]
  },
  {
   "cell_type": "markdown",
   "id": "8a3e637f",
   "metadata": {},
   "source": [
    "Question 9:"
   ]
  },
  {
   "cell_type": "code",
   "execution_count": 47,
   "id": "1495c0ee",
   "metadata": {},
   "outputs": [
    {
     "name": "stdout",
     "output_type": "stream",
     "text": [
      "['THE', 'QUICK', 'BROWN', 'FOX', 'JUMPS', 'OVER', 'THE', 'LAZY', 'DOG']\n"
     ]
    }
   ],
   "source": [
    "#Suppose list words is defined as follows:\n",
    "#>>> words = ['The', 'quick', 'brown', 'fox', 'jumps', 'over','the', 'lazy', 'dog']\n",
    "#Write list comprehension expressions that use list words and generate the following lists:\n",
    "#a) ['THE', 'QUICK', 'BROWN', 'FOX', 'JUMPS', 'OVER', 'THE','LAZY', 'DOG']\n",
    "\n",
    "words = ['The', 'quick', 'brown', 'fox', 'jumps', 'over', 'the', 'lazy', 'dog']\n",
    "Upper=[]\n",
    "for word in words:\n",
    "    Upper.append(word.upper())\n",
    "print(Upper)\n"
   ]
  },
  {
   "cell_type": "code",
   "execution_count": 49,
   "id": "2b2833a0",
   "metadata": {},
   "outputs": [
    {
     "name": "stdout",
     "output_type": "stream",
     "text": [
      "['the', 'quick', 'brown', 'fox', 'jumps', 'over', 'the', 'lazy', 'dog']\n"
     ]
    }
   ],
   "source": [
    "#Question 9 b: b) ['the', 'quick', 'brown', 'fox', 'jumps', 'over', 'the','lazy', 'dog']\n",
    "\n",
    "words = ['The', 'quick', 'brown', 'fox', 'jumps', 'over', 'the', 'lazy', 'dog']\n",
    "Lower=[]\n",
    "for word in words:\n",
    "    Lower.append(word.lower())\n",
    "print(Lower)"
   ]
  },
  {
   "cell_type": "code",
   "execution_count": 50,
   "id": "88a73492",
   "metadata": {},
   "outputs": [
    {
     "name": "stdout",
     "output_type": "stream",
     "text": [
      "[3, 5, 5, 3, 5, 4, 3, 4, 3]\n"
     ]
    }
   ],
   "source": [
    "#Question 9 c: [3, 5, 5, 3, 5, 4, 3, 4, 3] (the list of lengths of words in list words).\n",
    "\n",
    "Length=[]\n",
    "for word in words:\n",
    "    Length.append(len(word))\n",
    "print(Length)"
   ]
  },
  {
   "cell_type": "code",
   "execution_count": 52,
   "id": "f3a8ffa5",
   "metadata": {},
   "outputs": [
    {
     "name": "stdout",
     "output_type": "stream",
     "text": [
      "['THE', 'the', 3, 'QUICK', 'quick', 5, 'BROWN', 'brown', 5, 'FOX', 'fox', 3, 'JUMPS', 'jumps', 5, 'OVER', 'over', 4, 'THE', 'the', 3, 'LAZY', 'lazy', 4, 'DOG', 'dog', 3]\n"
     ]
    }
   ],
   "source": [
    "#Question 9 d : d) [['THE', 'the', 3], ['QUICK', 'quick', 5], ['BROWN', 'brown', 5], ['FOX', 'fox', 3], ['JUMPS', 'jumps', 5],['OVER', 'over', 4], ['THE', 'the', 3], ['LAZY', 'lazy',4], ['DOG', 'dog', 3]] (the list containing a list for every word of listwords, where each list contains the word in uppercase and lowercase and the length of the word.)\n",
    "\n",
    "word_upper_and_length=[]\n",
    "for word in words:\n",
    "    word_upper_and_length.append(word.upper())\n",
    "    word_upper_and_length.append(word.lower())\n",
    "    word_upper_and_length.append(len(word))\n",
    "print(word_upper_and_length)"
   ]
  },
  {
   "cell_type": "code",
   "execution_count": 53,
   "id": "44440cbb",
   "metadata": {},
   "outputs": [
    {
     "name": "stdout",
     "output_type": "stream",
     "text": [
      "['quick', 'brown', 'jumps', 'over', 'lazy']\n"
     ]
    }
   ],
   "source": [
    "#Question 9 e: ['The', 'quick', 'brown', 'fox', 'jumps', 'over', 'the','lazy', 'dog'] (the list of words in list words containing 4 or more characters.)\n",
    "\n",
    "limited_length=[]\n",
    "\n",
    "for word in words:\n",
    "    if len(word)>=4:\n",
    "        limited_length.append(word.lower())\n",
    "print(limited_length)"
   ]
  }
 ],
 "metadata": {
  "kernelspec": {
   "display_name": "Python 3 (ipykernel)",
   "language": "python",
   "name": "python3"
  },
  "language_info": {
   "codemirror_mode": {
    "name": "ipython",
    "version": 3
   },
   "file_extension": ".py",
   "mimetype": "text/x-python",
   "name": "python",
   "nbconvert_exporter": "python",
   "pygments_lexer": "ipython3",
   "version": "3.9.13"
  }
 },
 "nbformat": 4,
 "nbformat_minor": 5
}
